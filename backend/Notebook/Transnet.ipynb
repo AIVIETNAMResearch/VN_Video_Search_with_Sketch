{
  "cells": [
    {
      "cell_type": "code",
      "execution_count": null,
      "metadata": {
        "colab": {
          "base_uri": "https://localhost:8080/"
        },
        "id": "sYorqVpSa1cv",
        "outputId": "7e111bf0-9106-437a-e2b0-6f51af1678ec"
      },
      "outputs": [
        {
          "name": "stdout",
          "output_type": "stream",
          "text": [
            "Mounted at /content/drive\n"
          ]
        }
      ],
      "source": [
        "from google.colab import drive\n",
        "drive.mount('/content/drive')"
      ]
    },
    {
      "cell_type": "code",
      "execution_count": null,
      "metadata": {
        "colab": {
          "base_uri": "https://localhost:8080/"
        },
        "id": "Ffi4vQF2q6zr",
        "outputId": "5cb748db-f92b-4651-80a4-614d14e146ea"
      },
      "outputs": [
        {
          "name": "stdout",
          "output_type": "stream",
          "text": [
            "Cloning into 'TransNet'...\n",
            "remote: Enumerating objects: 27, done.\u001b[K\n",
            "remote: Counting objects: 100% (3/3), done.\u001b[K\n",
            "remote: Compressing objects: 100% (3/3), done.\u001b[K\n",
            "remote: Total 27 (delta 0), reused 0 (delta 0), pack-reused 24\u001b[K\n",
            "Receiving objects: 100% (27/27), 32.91 MiB | 21.64 MiB/s, done.\n",
            "Resolving deltas: 100% (8/8), done.\n",
            "Requirement already satisfied: protobuf==3.20.* in /usr/local/lib/python3.10/dist-packages (3.20.3)\n",
            "Collecting ffmpeg-python\n",
            "  Downloading ffmpeg_python-0.2.0-py3-none-any.whl (25 kB)\n",
            "Requirement already satisfied: future in /usr/local/lib/python3.10/dist-packages (from ffmpeg-python) (0.18.3)\n",
            "Installing collected packages: ffmpeg-python\n",
            "Successfully installed ffmpeg-python-0.2.0\n"
          ]
        }
      ],
      "source": [
        "!git clone https://github.com/soCzech/TransNet\n",
        "\n",
        "!pip install protobuf==3.20.*\n",
        "!pip install ffmpeg-python"
      ]
    },
    {
      "cell_type": "code",
      "execution_count": null,
      "metadata": {
        "colab": {
          "base_uri": "https://localhost:8080/"
        },
        "id": "amAmxcwSrJjw",
        "outputId": "9f0aee85-1a01-4eda-9d04-68c4f5d260eb"
      },
      "outputs": [
        {
          "name": "stdout",
          "output_type": "stream",
          "text": [
            "/content/TransNet\n"
          ]
        }
      ],
      "source": [
        "%cd /content/TransNet\n",
        "\n",
        "!chmod +x transnet.py # Thêm vào khi chạy trên colab\n",
        "\n",
        "# import tensorflow.compat.v1 as tf # dòng này thêm vào file transnet.py khi clone git của transnet về, thay vào vị trí của import tensorflow as tf\n",
        "# tf.disable_v2_behavior() # dòng này thêm vào file transnet.py khi clone git của transnet về"
      ]
    },
    {
      "cell_type": "code",
      "execution_count": null,
      "metadata": {
        "colab": {
          "base_uri": "https://localhost:8080/"
        },
        "id": "YERIupjJrL5F",
        "outputId": "4dafa888-07ea-4a26-ef9c-44d319f140eb"
      },
      "outputs": [
        {
          "name": "stderr",
          "output_type": "stream",
          "text": [
            "WARNING:tensorflow:From /usr/local/lib/python3.10/dist-packages/tensorflow/python/compat/v2_compat.py:107: disable_resource_variables (from tensorflow.python.ops.variable_scope) is deprecated and will be removed in a future version.\n",
            "Instructions for updating:\n",
            "non-resource variables are not supported in the long term\n"
          ]
        }
      ],
      "source": [
        "import ffmpeg\n",
        "import numpy as np\n",
        "import tensorflow as tf\n",
        "\n",
        "from transnet import TransNetParams, TransNet\n",
        "from transnet_utils import draw_video_with_predictions, scenes_from_predictions\n",
        "\n",
        "import glob\n",
        "import os\n",
        "import cv2\n",
        "import csv"
      ]
    },
    {
      "cell_type": "code",
      "execution_count": null,
      "metadata": {
        "colab": {
          "base_uri": "https://localhost:8080/"
        },
        "id": "pcf8IBOFrPOH",
        "outputId": "d5d687b0-701b-4bda-f373-9785f44faaa1"
      },
      "outputs": [
        {
          "name": "stdout",
          "output_type": "stream",
          "text": [
            "[TransNet] Creating ops.\n",
            "           Input (?, ?, 27, 48, 3)\n",
            "           SDDCNN_1\n",
            "           > DDCNN_1 (?, ?, 27, 48, 64)\n",
            "           > DDCNN_2 (?, ?, 27, 48, 64)\n",
            "           MaxPool (?, ?, 13, 24, 64)\n",
            "           SDDCNN_2\n",
            "           > DDCNN_1 (?, ?, 13, 24, 128)\n",
            "           > DDCNN_2 (?, ?, 13, 24, 128)\n",
            "           MaxPool (?, ?, 6, 12, 128)\n",
            "           SDDCNN_3\n",
            "           > DDCNN_1 (?, ?, 6, 12, 256)\n",
            "           > DDCNN_2 (?, ?, 6, 12, 256)\n",
            "           MaxPool (?, ?, 3, 6, 256)\n",
            "           Flatten (?, ?, 4608)\n",
            "           Dense (?, ?, 256)\n",
            "           Logits (?, ?, 2)\n",
            "           Predictions (?, ?)\n",
            "[TransNet] Network built.\n",
            "[TransNet] Found 4614850 trainable parameters.\n",
            "[TransNet] Parameters restored from 'transnet_model-F16_L3_S2_D256'.\n"
          ]
        }
      ],
      "source": [
        "params = TransNetParams()\n",
        "params.CHECKPOINT_PATH = \"./model/transnet_model-F16_L3_S2_D256\"\n",
        "\n",
        "net = TransNet(params)"
      ]
    },
    {
      "cell_type": "code",
      "execution_count": null,
      "metadata": {
        "id": "4mUv6y06jOg6"
      },
      "outputs": [],
      "source": [
        "################# Config Folder #################\n",
        "video_paths = sorted(glob.glob('/content/drive/MyDrive/Knowledge/AIO2023/Competitions/HCM AI/Database-BTC/Videos_L02/video/*.mp4'))\n",
        "des_path = '/content/drive/MyDrive/Knowledge/AIO2023/Competitions/HCM AI/KeyFrames_AIO_Pending/KeyFrames_L02_Optimize2/'\n",
        "csv_des_folder = '/content/drive/MyDrive/Knowledge/AIO2023/Competitions/HCM AI/map-keyframes'\n",
        "#################################################"
      ]
    },
    {
      "cell_type": "code",
      "execution_count": null,
      "metadata": {
        "colab": {
          "base_uri": "https://localhost:8080/"
        },
        "id": "7lLsxJDtjjPZ",
        "outputId": "753bd3f2-5f3c-458d-b55f-ca55187c1e12"
      },
      "outputs": [
        {
          "name": "stdout",
          "output_type": "stream",
          "text": [
            "/content/drive/MyDrive/Knowledge/AIO2023/Competitions/HCM AI/Database-BTC/Videos_L02/video/L02_V001.mp4\n",
            "/content/drive/MyDrive/Knowledge/AIO2023/Competitions/HCM AI/KeyFrames_AIO_Pending/KeyFrames_L02_Optimize2/L02_V001\n",
            "/content/drive/MyDrive/Knowledge/AIO2023/Competitions/HCM AI/Database-BTC/Videos_L02/video/L02_V001.mp4\n",
            "[TransNet] Processing video frames 30897/30897\n"
          ]
        }
      ],
      "source": [
        "\n",
        "for video_path in video_paths:\n",
        "    print(video_path)\n",
        "    folder_name = video_path.split('/')[-1].replace( '.mp4','')\n",
        "\n",
        "    # print(test_folder)\n",
        "    # if test_folder <= 244 or test_folder==253 or test_folder==271:\n",
        "    #     print(f\"Skip {folder_name}\")\n",
        "    #     continue\n",
        "\n",
        "    folder_path = des_path + f'{folder_name}'\n",
        "    print(folder_path)\n",
        "    if not os.path.exists(folder_path):\n",
        "        os.makedirs(folder_path)\n",
        "\n",
        "    # export video into numpy array using ffmpeg\n",
        "    print(video_path)\n",
        "    video_stream, err = (\n",
        "        ffmpeg\n",
        "        .input(video_path)\n",
        "        .output('pipe:', format='rawvideo', pix_fmt='rgb24', s='{}x{}'.format(params.INPUT_WIDTH, params.INPUT_HEIGHT))\n",
        "        .run(capture_stdout=True)\n",
        "    )\n",
        "    video = np.frombuffer(video_stream, np.uint8).reshape([-1, params.INPUT_HEIGHT, params.INPUT_WIDTH, 3])\n",
        "\n",
        "    # predict transitions using the neural network\n",
        "    predictions = net.predict_video(video)\n",
        "\n",
        "    # Generate list of scenes from predictions, returns tuples of (start frame, end frame)\n",
        "    scenes = scenes_from_predictions(predictions, threshold=0.1)\n",
        "    with open(f\"{folder_path}.txt\", 'w') as f:\n",
        "        for sc in scenes:\n",
        "            f.write(str(sc) + '\\n')\n",
        "\n",
        "    cam = cv2.VideoCapture(video_path)\n",
        "    currentframe = 0\n",
        "    index = 0\n",
        "\n",
        "    # Create folder to save csv\n",
        "    csv_des_path = csv_des_folder + f'/{folder_name}'\n",
        "    if not os.path.exists(csv_des_folder):\n",
        "      os.makedirs(csv_des_folder)\n",
        "    n=1\n",
        "\n",
        "    # Write csv\n",
        "    with open(f\"{csv_des_path}.csv\", 'w', newline='') as csvfile:\n",
        "      fieldnames = ['n','pts_time','fps','frame_idx']\n",
        "      writer = csv.DictWriter(csvfile, fieldnames = fieldnames)\n",
        "      # writer.writerheader() # writeheaders is new in Python 2.7 / 3.2\n",
        "      writer.writerow(dict((fn,fn) for fn in fieldnames)) # 1 cách writerheader() khác\n",
        "\n",
        "      while True:\n",
        "          ret,frame = cam.read()\n",
        "          if ret:\n",
        "              currentframe += 1\n",
        "              # for sc in scenes:\n",
        "              idx_first = int(scenes[index][0])\n",
        "              idx_end = int(scenes[index][1])\n",
        "              idx_025 = int(scenes[index][0] + (scenes[index][1]-scenes[index][0])/4)\n",
        "              idx_05 = int(scenes[index][0] + (scenes[index][1]-scenes[index][0])/2)\n",
        "              idx_075 = int(scenes[index][0] + 3*(scenes[index][1]-scenes[index][0])/4)\n",
        "\n",
        "              #### First ####\n",
        "              if currentframe - 1 == idx_first:\n",
        "                  filename_first = \"{}/{:0>6d}.jpg\".format(folder_path, idx_first)\n",
        "                  # video_save = cv2.resize(video[idx_first], (1280,720))\n",
        "                  cv2.imwrite(filename_first, frame)\n",
        "\n",
        "                  # SAVE CSV\n",
        "                  writer.writerow({'n':n,'pts_time': (idx_first/25),'fps': 25,'frame_idx': idx_first})\n",
        "                  n += 1\n",
        "\n",
        "              #### 025 ####\n",
        "              if (scenes[index][1]-scenes[index][0] >= 500) and (currentframe - 1 == idx_025):\n",
        "                  filename_025 = \"{}/{:0>6d}.jpg\".format(folder_path, idx_025)\n",
        "                  # video_save = cv2.resize(video[idx_025], (1280,720))\n",
        "                  cv2.imwrite(filename_025, frame)\n",
        "\n",
        "                  # SAVE CSV\n",
        "                  writer.writerow({'n':n,'pts_time': (idx_025/25),'fps': 25,'frame_idx': idx_025})\n",
        "                  n += 1\n",
        "\n",
        "              # #### 05 ####\n",
        "              if currentframe - 1 == idx_05:\n",
        "                  filename_05 = \"{}/{:0>6d}.jpg\".format(folder_path, idx_05)\n",
        "                  # video_save = cv2.resize(video[idx_05], (1280,720))\n",
        "                  cv2.imwrite(filename_05, frame)\n",
        "\n",
        "                  # SAVE CSV\n",
        "                  writer.writerow({'n':n,'pts_time': (idx_05/25),'fps': 25,'frame_idx': idx_05})\n",
        "                  n += 1\n",
        "\n",
        "              # #### 075 ####\n",
        "              if (scenes[index][1]-scenes[index][0] >= 500) and (currentframe - 1 == idx_075):\n",
        "                  filename_075 = \"{}/{:0>6d}.jpg\".format(folder_path, idx_075)\n",
        "                  # video_save = cv2.resize(video[idx_075], (1280,720))\n",
        "                  cv2.imwrite(filename_075, frame)\n",
        "\n",
        "                  # SAVE CSV\n",
        "                  writer.writerow({'n':n,'pts_time': (idx_075/25),'fps': 25,'frame_idx': idx_075})\n",
        "                  n += 1\n",
        "\n",
        "              # #### End ####\n",
        "              if currentframe - 1 == idx_end:\n",
        "                  filename_end = \"{}/{:0>6d}.jpg\".format(folder_path, idx_end)\n",
        "                  # video_save = cv2.resize(video[idx_end], (1280,720))\n",
        "                  cv2.imwrite(filename_end, frame)\n",
        "\n",
        "                  # SAVE CSV\n",
        "                  writer.writerow({'n':n,'pts_time': (idx_end/25),'fps': 25,'frame_idx': idx_end})\n",
        "                  n += 1\n",
        "\n",
        "                  index += 1\n",
        "\n",
        "          else:\n",
        "              break\n",
        "\n",
        "\n",
        "    cam.release()\n",
        "    cv2.destroyAllWindows()"
      ]
    }
  ],
  "metadata": {
    "colab": {
      "provenance": []
    },
    "kernelspec": {
      "display_name": "Python 3",
      "name": "python3"
    },
    "language_info": {
      "name": "python",
      "version": "3.9.7"
    }
  },
  "nbformat": 4,
  "nbformat_minor": 0
}
